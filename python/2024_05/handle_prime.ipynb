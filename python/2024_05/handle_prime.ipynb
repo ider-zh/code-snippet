{
 "cells": [
  {
   "cell_type": "markdown",
   "metadata": {},
   "source": [
    "# 提取素数"
   ]
  },
  {
   "cell_type": "code",
   "execution_count": null,
   "metadata": {},
   "outputs": [],
   "source": [
    "# 从文件中计算 top 素数 16_000\n",
    "import sympy as sp\n",
    "import sys\n",
    "import re\n",
    "sys.set_int_max_str_digits(2_000_000_000)\n",
    "\n",
    "def calculate_expression(expression):\n",
    "    # 将字符串表达式转换为Sympy表达式\n",
    "    if \"!\" in expression:\n",
    "        factorial_pattern = re.compile(r'(\\d+)!')\n",
    "    \n",
    "        # 替换阶乘运算符为 sympy 的 factorial 函数\n",
    "        expression = factorial_pattern.sub(r'sp.factorial(\\1)', expression)\n",
    "        # print(expression)\n",
    "        return eval(expression)\n",
    "    \n",
    "    # print(expression)\n",
    "    result = sp.sympify(expression)\n",
    "    \n",
    "    # 计算表达式的数值\n",
    "    # result = expr.evalf()\n",
    "    \n",
    "    return result\n",
    "    \n",
    "def extrace_primes():\n",
    "    \"\"\"从文件中提取素数表格\"\"\"\n",
    "    txt_path = \"./primes_top_16000.txt\"\n",
    "    with open(txt_path,\"rt\")as f:\n",
    "        rows = f.readlines()\n",
    "        \n",
    "    new_rows = []\n",
    "    line = \"\"\n",
    "    for row in rows:\n",
    "        \n",
    "        if row[:6].replace(\" \",\"\") == \"\":\n",
    "            # 分行\n",
    "            if line.endswith(\"\\\\\"):\n",
    "                line = line.rstrip(\"\\\\\") + row.strip()\n",
    "            else:\n",
    "                line += row.rstrip()\n",
    "        else:\n",
    "            if line:\n",
    "                data = line.split()\n",
    "                new_rows.append((data[0],data[1],data[2]))\n",
    "            line = row.rstrip()\n",
    "\n",
    "    if line:\n",
    "        data = line.split()\n",
    "        new_rows.append((data[0],data[1],data[2]))\n",
    "    return new_rows\n",
    "\n",
    "def generate_top_primes():\n",
    "    for rank, expression, digital in extrace_primes():\n",
    "        try:\n",
    "            value = calculate_expression(expression)\n",
    "            yield expression, rank, digital, int(value), sp.N(value, 15)\n",
    "        except Exception as e:\n",
    "            print(\"calculate_expression error\", rank, expression)\n",
    "            print(e)\n",
    "            continue\n",
    "        \n",
    "new_rows = extrace_primes()\n",
    "new_rows[778]"
   ]
  },
  {
   "cell_type": "markdown",
   "metadata": {},
   "source": []
  },
  {
   "cell_type": "markdown",
   "metadata": {},
   "source": [
    "# 编码数值"
   ]
  },
  {
   "cell_type": "code",
   "execution_count": null,
   "metadata": {},
   "outputs": [],
   "source": [
    "def encode_number(big_int):\n",
    "    byte_length = (big_int.bit_length() + 7) // 8\n",
    "    big_int_byte = big_int.to_bytes(length=byte_length, byteorder=\"big\")\n",
    "    return big_int_byte\n",
    "    \n",
    "def encode_number_str(num_str):\n",
    "    return encode_number(int(num_str))\n",
    "    \n",
    "def decode_number(num_byte):\n",
    "    integer_value = int.from_bytes(num_byte, 'big')\n",
    "    return integer_value\n",
    "    \n",
    "ss = \"\"\n",
    "for i in range(2):\n",
    "    ss += \"1234567890\"\n",
    "tmp = encode_number_str(ss)\n",
    "decode_number(tmp)"
   ]
  },
  {
   "cell_type": "markdown",
   "metadata": {},
   "source": [
    "# 压缩数值"
   ]
  },
  {
   "cell_type": "code",
   "execution_count": null,
   "metadata": {},
   "outputs": [],
   "source": [
    "import pandas as pd\n",
    "from compress_utils import compress_test_data_v3, set_df_info, compress_data\n",
    "\n",
    "result = []\n",
    "def get_prime():\n",
    "    for comment,rank,digital,value,estimate in generate_top_primes():\n",
    "        report = {\n",
    "            \"formular\": comment,\n",
    "            \"rank\": rank,\n",
    "            \"digital\": digital,\n",
    "            \"estimate\": estimate,\n",
    "        }\n",
    "        print(rank, end=\" \")\n",
    "        ret = compress_data(encode_number(int(value)))\n",
    "        report.update(ret)\n",
    "        result.append(report)\n",
    "        \n",
    "    df = pd.DataFrame(result)\n",
    "    \n",
    "    df[\"gz-first-ratio\"] = df[\"pure\"] / df[\"gz-first-size\"]\n",
    "    df[\"gz-last-ratio\"] = df[\"pure\"] / df[\"gz-last-size\"]\n",
    "    df[\"bz-first-ratio\"] = df[\"pure\"] / df[\"bz-first-size\"]\n",
    "    df[\"bz-last-ratio\"] = df[\"pure\"] / df[\"bz-last-size\"]\n",
    "    df[\"xz-first-ratio\"] = df[\"pure\"] / df[\"xz-first-size\"]\n",
    "    df[\"xz-last-ratio\"] = df[\"pure\"] / df[\"xz-last-size\"]\n",
    "    return df\n",
    "        \n",
    "\n",
    "data_frame = get_prime()\n",
    "data_frame = set_df_info(data_frame, \"big integer\", \"prime\")\n",
    "data_frame.to_csv(\"tmp_bigInteger.csv\")"
   ]
  }
 ],
 "metadata": {
  "language_info": {
   "name": "python"
  }
 },
 "nbformat": 4,
 "nbformat_minor": 2
}
